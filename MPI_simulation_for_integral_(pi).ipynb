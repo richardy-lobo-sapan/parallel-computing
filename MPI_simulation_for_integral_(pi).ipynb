{
  "cells": [
    {
      "cell_type": "code",
      "execution_count": null,
      "metadata": {
        "colab": {
          "base_uri": "https://localhost:8080/"
        },
        "id": "7wxIlWAatPV5",
        "outputId": "fcaee244-1d76-46bd-a61d-22258ae5ef96"
      },
      "outputs": [
        {
          "output_type": "stream",
          "name": "stdout",
          "text": [
            "Requirement already satisfied: mpi4py in /usr/local/lib/python3.7/dist-packages (3.1.3)\n"
          ]
        }
      ],
      "source": [
        "! pip install mpi4py"
      ]
    },
    {
      "cell_type": "markdown",
      "source": [
        "Program Sekuensial"
      ],
      "metadata": {
        "id": "4r9jJod2-b_S"
      }
    },
    {
      "cell_type": "code",
      "source": [
        "import math\n",
        "\n",
        "import timeit\n",
        "start = timeit.default_timer()\n",
        "\n",
        "def compute_pi(n):\n",
        "  h = 1.0 / n\n",
        "  s = 0.0\n",
        "  for i in range(n):\n",
        "    x = h * (i + 0.5)\n",
        "    s += 4.0 / (1.0 + x**2)\n",
        "  return s * h\n",
        "\n",
        "n = 10000\n",
        "pi = compute_pi(n)\n",
        "error = abs(pi - math.pi)\n",
        "\n",
        "print(\"pi is approximately %.16f, \"\n",
        "\"error is %.16f\" % (pi, error))\n",
        "\n",
        "stop = timeit.default_timer()\n",
        "print('Time: ', stop - start) "
      ],
      "metadata": {
        "colab": {
          "base_uri": "https://localhost:8080/"
        },
        "id": "MCdppVnb-Qhl",
        "outputId": "4c3a9ead-ecd3-45c2-c063-a86e713c808b"
      },
      "execution_count": 27,
      "outputs": [
        {
          "output_type": "stream",
          "name": "stdout",
          "text": [
            "pi is approximately 3.1415926544231341, error is 0.0000000008333410\n",
            "Time:  0.0052862940001432435\n"
          ]
        }
      ]
    },
    {
      "cell_type": "markdown",
      "source": [
        "Program Parallel dengan MPI"
      ],
      "metadata": {
        "id": "qExmPL7w-Nb_"
      }
    },
    {
      "cell_type": "code",
      "source": [
        "from mpi4py import MPI\n",
        "import math\n",
        "\n",
        "import timeit\n",
        "start = timeit.default_timer()\n",
        "\n",
        "def compute_pi(n, start=0, step=1):\n",
        "  h = 1.0 / n\n",
        "  s = 0.0\n",
        "  for i in range(start, n, step):\n",
        "    x = h * (i + 0.5)\n",
        "    s += 4.0 / (1.0 + x**2)\n",
        "  return s * h\n",
        "\n",
        "comm = MPI.COMM_WORLD\n",
        "nprocs = comm.Get_size()\n",
        "myrank = comm.Get_rank()\n",
        "\n",
        "if myrank == 0:\n",
        "  n = 10000\n",
        "else:\n",
        "  n = None\n",
        "\n",
        "n = comm.bcast(n, root=0)\n",
        "\n",
        "mypi = compute_pi(n, myrank, nprocs)\n",
        "\n",
        "pi = comm.reduce(mypi, op=MPI.SUM, root=0)\n",
        "\n",
        "if myrank == 0:\n",
        "  error = abs(pi - math.pi)\n",
        "  print(\"pi is approximately %.16f, \"\n",
        "  \"error is %.16f\" % (pi, error))\n",
        "\n",
        "stop = timeit.default_timer()\n",
        "print('Time: ', stop - start)"
      ],
      "metadata": {
        "id": "gExDpwlX8bay",
        "colab": {
          "base_uri": "https://localhost:8080/"
        },
        "outputId": "8d22e6c4-6ef2-4699-cdf7-2281bc650417"
      },
      "execution_count": 28,
      "outputs": [
        {
          "output_type": "stream",
          "name": "stdout",
          "text": [
            "pi is approximately 3.1415926544231341, error is 0.0000000008333410\n",
            "Time:  0.005474310999488807\n"
          ]
        }
      ]
    },
    {
      "cell_type": "code",
      "source": [
        ""
      ],
      "metadata": {
        "id": "NNslwJZ79x71"
      },
      "execution_count": null,
      "outputs": []
    }
  ],
  "metadata": {
    "colab": {
      "name": "MPI simulation for integral (pi).ipynb",
      "provenance": [],
      "collapsed_sections": []
    },
    "kernelspec": {
      "display_name": "Python 3",
      "name": "python3"
    },
    "language_info": {
      "name": "python"
    }
  },
  "nbformat": 4,
  "nbformat_minor": 0
}